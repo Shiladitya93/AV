{
  "nbformat": 4,
  "nbformat_minor": 0,
  "metadata": {
    "colab": {
      "name": "AV_HR_secondtrial.ipynb",
      "provenance": [],
      "private_outputs": true
    },
    "kernelspec": {
      "name": "python3",
      "display_name": "Python 3"
    },
    "accelerator": "GPU"
  },
  "cells": [
    {
      "cell_type": "code",
      "metadata": {
        "id": "x56LK2dOs4ap",
        "colab_type": "code",
        "colab": {}
      },
      "source": [
        "!wget 'https://datahack-prod.s3.amazonaws.com/train_file/train_jqd04QH.csv'\n",
        "!wget 'https://datahack-prod.s3.amazonaws.com/test_file/test_KaymcHn.csv'"
      ],
      "execution_count": 0,
      "outputs": []
    },
    {
      "cell_type": "code",
      "metadata": {
        "id": "mOVEmO4qLhjk",
        "colab_type": "code",
        "colab": {}
      },
      "source": [
        ""
      ],
      "execution_count": 0,
      "outputs": []
    },
    {
      "cell_type": "code",
      "metadata": {
        "id": "gI8-Sfgos-WY",
        "colab_type": "code",
        "colab": {}
      },
      "source": [
        "import pandas as pd\n",
        "import seaborn as sns\n",
        "import matplotlib.pyplot as plt\n",
        "import numpy as np\n",
        "from sklearn.model_selection import train_test_split\n",
        "from sklearn import metrics\n",
        "from xgboost import XGBClassifier"
      ],
      "execution_count": 0,
      "outputs": []
    },
    {
      "cell_type": "code",
      "metadata": {
        "id": "SdVkZ_3ftBA5",
        "colab_type": "code",
        "colab": {}
      },
      "source": [
        "data=pd.read_csv(\"/content/train_jqd04QH.csv\")\n",
        "data_test=pd.read_csv(\"/content/test_KaymcHn.csv\")\n",
        "data_combine=data.append(data_test)\n",
        "data_combine.reset_index(inplace=True,drop=True)\n",
        "data_combine.head()"
      ],
      "execution_count": 0,
      "outputs": []
    },
    {
      "cell_type": "code",
      "metadata": {
        "id": "P_hS5BAWKtTF",
        "colab_type": "code",
        "colab": {}
      },
      "source": [
        "for col,item in data_combine.iteritems():\n",
        "  print(data_combine[col].value_counts(dropna=False))"
      ],
      "execution_count": 0,
      "outputs": []
    },
    {
      "cell_type": "code",
      "metadata": {
        "id": "ZTold32XtR42",
        "colab_type": "code",
        "colab": {}
      },
      "source": [
        "data_combine['experience']=data_combine['experience'].replace({'>20':'21','<1':'0',np.nan:'-1'})\n",
        "data_combine['last_new_job']=data_combine['last_new_job'].replace({'>4':'5','never':'0'})\n",
        "data_combine['company_size']=data_combine['company_size'].replace({'10/49':'10-49','<10':'0-10'})"
      ],
      "execution_count": 0,
      "outputs": []
    },
    {
      "cell_type": "code",
      "metadata": {
        "id": "yBOM0kgMQdGy",
        "colab_type": "code",
        "colab": {}
      },
      "source": [
        "data_combine['experience']=pd.to_numeric(data_combine['experience'],errors='coerce')\n",
        "data_combine['experience'].value_counts(dropna=False)"
      ],
      "execution_count": 0,
      "outputs": []
    },
    {
      "cell_type": "code",
      "metadata": {
        "id": "7PKStqZPRSLw",
        "colab_type": "code",
        "colab": {}
      },
      "source": [
        "#Rebinning experience. It basically throws away granularity of the dataset and reduces overfittting!\n",
        "bins= [-1,0,3,6,9,12,15,18,21]\n",
        "labels = ['Unknown','1','2','3','4','5','6','7']\n",
        "data_combine['experience'] = pd.cut(data_combine['experience'], bins=bins, labels=labels, right=False)\n",
        "data_combine['experience'].value_counts()"
      ],
      "execution_count": 0,
      "outputs": []
    },
    {
      "cell_type": "code",
      "metadata": {
        "id": "HiDCbQAeT90C",
        "colab_type": "code",
        "colab": {}
      },
      "source": [
        "data_combine['experience'].astype(str)\n",
        "data_combine['experience']=data_combine['experience'].replace({'Unknown':np.nan})"
      ],
      "execution_count": 0,
      "outputs": []
    },
    {
      "cell_type": "code",
      "metadata": {
        "id": "p0t93ZHKrwLz",
        "colab_type": "code",
        "colab": {}
      },
      "source": [
        "target=data_combine['target']\n",
        "numerical_data=data_combine[['training_hours','city_development_index','enrollee_id']]\n",
        "categorical_data=data_combine.drop(labels=numerical_data.columns.append(pd.Index(['target'])),axis=1)"
      ],
      "execution_count": 0,
      "outputs": []
    },
    {
      "cell_type": "code",
      "metadata": {
        "id": "WwPn4OTwvNxw",
        "colab_type": "code",
        "colab": {}
      },
      "source": [
        "from sklearn.impute import SimpleImputer\n",
        "my_imputer = SimpleImputer(missing_values=np.nan,strategy='median')\n",
        "numerical_data = pd.DataFrame(my_imputer.fit_transform(numerical_data),columns=numerical_data.columns)"
      ],
      "execution_count": 0,
      "outputs": []
    },
    {
      "cell_type": "code",
      "metadata": {
        "id": "L3yujjh_uGMl",
        "colab_type": "code",
        "colab": {}
      },
      "source": [
        "my_imputer = SimpleImputer(missing_values=np.nan,strategy='most_frequent')\n",
        "categorical_data = pd.DataFrame(my_imputer.fit_transform(categorical_data),columns=categorical_data.columns)"
      ],
      "execution_count": 0,
      "outputs": []
    },
    {
      "cell_type": "code",
      "metadata": {
        "id": "CRS6svtP2YpE",
        "colab_type": "code",
        "colab": {}
      },
      "source": [
        "data_combine=pd.concat([categorical_data,numerical_data],axis=1)\n",
        "data_combine['target']=target\n",
        "data_combine.head()"
      ],
      "execution_count": 0,
      "outputs": []
    },
    {
      "cell_type": "code",
      "metadata": {
        "id": "ps4bIeM6DwyH",
        "colab_type": "code",
        "colab": {}
      },
      "source": [
        "data=data_combine[data_combine['target'].isnull()!=True]\n",
        "data_test=data_combine[data_combine['target'].isnull()==True]"
      ],
      "execution_count": 0,
      "outputs": []
    },
    {
      "cell_type": "code",
      "metadata": {
        "id": "x_47pSXqD4ci",
        "colab_type": "code",
        "colab": {}
      },
      "source": [
        "data.drop(labels='enrollee_id',axis=1,inplace=True)\n",
        "data.reset_index(drop=True,inplace=True)\n",
        "data.head()"
      ],
      "execution_count": 0,
      "outputs": []
    },
    {
      "cell_type": "code",
      "metadata": {
        "id": "Ede93HNQFHaZ",
        "colab_type": "code",
        "colab": {}
      },
      "source": [
        "X=data.drop(labels='target',axis=1)\n",
        "y=data['target']"
      ],
      "execution_count": 0,
      "outputs": []
    },
    {
      "cell_type": "code",
      "metadata": {
        "id": "hVe1tWd5HHH7",
        "colab_type": "code",
        "colab": {}
      },
      "source": [
        "X=pd.get_dummies(X,columns=categorical_data.columns,drop_first=True)"
      ],
      "execution_count": 0,
      "outputs": []
    },
    {
      "cell_type": "code",
      "metadata": {
        "id": "iervWuySFprJ",
        "colab_type": "code",
        "colab": {}
      },
      "source": [
        "train_X,test_X,train_y,test_y=train_test_split(X,y,test_size=0.1,random_state=0,stratify=y)\n",
        "train_X,test_X,train_y,test_y=train_X.values,test_X.values,train_y.values,test_y.values"
      ],
      "execution_count": 0,
      "outputs": []
    },
    {
      "cell_type": "code",
      "metadata": {
        "id": "euuwwzm7Gt_L",
        "colab_type": "code",
        "colab": {}
      },
      "source": [
        "from xgboost import XGBClassifier\n",
        "model=XGBClassifier(silent=False, scale_pos_weight=6,learning_rate=0.0001,  \n",
        "                      colsample_bytree = 0.5,\n",
        "                      subsample = 0.8,\n",
        "                      objective='binary:logistic', \n",
        "                      n_estimators=10000, \n",
        "                      reg_alpha = 50,\n",
        "                      max_depth=8, \n",
        "                      gamma=0.5,\n",
        "                      n_jobs=-1,tree_method='gpu_hist',gpu_id=0)\n",
        "\n",
        "eval_set = [(train_X, train_y), (test_X,test_y)]\n",
        "eval_metric = [\"auc\",\"logloss\"]\n",
        "model.fit(train_X,train_y,early_stopping_rounds=1, eval_metric=eval_metric, eval_set=eval_set, verbose=False)\n",
        "train_predicted=model.predict(train_X)\n",
        "test_predicted=model.predict(test_X)\n",
        "\n",
        "y_pred_prob_train = model.predict_proba(train_X)[:, 1]\n",
        "y_pred_prob_test = model.predict_proba(test_X)[:, 1]\n",
        "\n",
        "print(\"Training ROC AUC score\",metrics.roc_auc_score(train_y,y_pred_prob_train),\"\\n\")\n",
        "print(\"Testing ROC AUC score\",metrics.roc_auc_score(test_y,y_pred_prob_test))"
      ],
      "execution_count": 0,
      "outputs": []
    },
    {
      "cell_type": "code",
      "metadata": {
        "id": "5KEjwl8bIuTp",
        "colab_type": "code",
        "colab": {}
      },
      "source": [
        ""
      ],
      "execution_count": 0,
      "outputs": []
    }
  ]
}